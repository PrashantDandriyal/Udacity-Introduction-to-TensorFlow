{
  "nbformat": 4,
  "nbformat_minor": 0,
  "metadata": {
    "colab": {
      "name": "RBG function approximation try",
      "provenance": [],
      "collapsed_sections": [],
      "include_colab_link": true
    },
    "kernelspec": {
      "name": "python3",
      "display_name": "Python 3"
    }
  },
  "cells": [
    {
      "cell_type": "markdown",
      "metadata": {
        "id": "view-in-github",
        "colab_type": "text"
      },
      "source": [
        "<a href=\"https://colab.research.google.com/github/PrashantDandriyal/Udacity-Introduction-to-TensorFlow/blob/master/RBG_function_approximation_try.ipynb\" target=\"_parent\"><img src=\"https://colab.research.google.com/assets/colab-badge.svg\" alt=\"Open In Colab\"/></a>"
      ]
    },
    {
      "cell_type": "code",
      "metadata": {
        "id": "SVPxSuY1TTCl",
        "colab_type": "code",
        "colab": {}
      },
      "source": [
        "from __future__ import absolute_import, division, print_function, unicode_literals\n",
        "import tensorflow as tf\n",
        "\n",
        "import numpy as np\n"
      ],
      "execution_count": 0,
      "outputs": []
    },
    {
      "cell_type": "code",
      "metadata": {
        "id": "um5aZrPjTVeg",
        "colab_type": "code",
        "colab": {}
      },
      "source": [
        "import logging\n",
        "logger = tf.get_logger()\n",
        "logger.setLevel(logging.ERROR)"
      ],
      "execution_count": 0,
      "outputs": []
    },
    {
      "cell_type": "code",
      "metadata": {
        "id": "pR0fk57lTYAv",
        "colab_type": "code",
        "outputId": "cf0360c4-0b6a-4fbf-a0d5-8f85c56bb455",
        "colab": {
          "base_uri": "https://localhost:8080/",
          "height": 136
        }
      },
      "source": [
        "R    = np.array([-4, -10,  -2,  8, 5, 22,  3],  dtype=float)\n",
        "B    = np.array([4, -10,  0,  0, 15, 5,  1],  dtype=float)\n",
        "G    = np.array([0, 10,  5,  8, 1, 2,  38],  dtype=float)\n",
        "\n",
        "#Temp array to be append to.\n",
        "arr = []\n",
        "\n",
        "Y    = np.array([0, -10, 3, 16, 21, 29, 42],  dtype=float)\n",
        "\n",
        "for i in range(7):\n",
        "  arr.append([R[i], B[i], G[i]])\n",
        "  print(\"R={} B = {} G ={} i={}\".format(R[i],B[i],G[i],i))    #Alternatiely: RBG = np.array([R,B,G]).transpose()\n",
        "\n",
        "\n",
        "#Converting the filled array to numpy array\n",
        "RBG = np.array(arr)"
      ],
      "execution_count": 88,
      "outputs": [
        {
          "output_type": "stream",
          "text": [
            "R=-4.0 B = 4.0 G =0.0 i=0\n",
            "R=-10.0 B = -10.0 G =10.0 i=1\n",
            "R=-2.0 B = 0.0 G =5.0 i=2\n",
            "R=8.0 B = 0.0 G =8.0 i=3\n",
            "R=5.0 B = 15.0 G =1.0 i=4\n",
            "R=22.0 B = 5.0 G =2.0 i=5\n",
            "R=3.0 B = 1.0 G =38.0 i=6\n"
          ],
          "name": "stdout"
        }
      ]
    },
    {
      "cell_type": "code",
      "metadata": {
        "id": "wqubr8m7lx4y",
        "colab_type": "code",
        "colab": {}
      },
      "source": [
        ""
      ],
      "execution_count": 0,
      "outputs": []
    },
    {
      "cell_type": "code",
      "metadata": {
        "id": "1gqL1wCIuMIF",
        "colab_type": "code",
        "colab": {
          "base_uri": "https://localhost:8080/",
          "height": 51
        },
        "outputId": "9d2f5db3-ad22-4e25-e459-ddc22ee42b5f"
      },
      "source": [
        "#Normal Array\n",
        "a = []\n",
        "a = [[1],[2],[3]]\n",
        "\n",
        "print(len(a))\n",
        "print(len(a[0]))"
      ],
      "execution_count": 64,
      "outputs": [
        {
          "output_type": "stream",
          "text": [
            "3\n",
            "1\n"
          ],
          "name": "stdout"
        }
      ]
    },
    {
      "cell_type": "code",
      "metadata": {
        "id": "qzM1aLIeArLb",
        "colab_type": "code",
        "colab": {
          "base_uri": "https://localhost:8080/",
          "height": 68
        },
        "outputId": "0d04c173-20ac-4156-f214-470e2a3af88d"
      },
      "source": [
        "#Numpy Array\n",
        "b = np.array([1,2,3])\n",
        "print(b)\n",
        "print(np.shape(b))\n",
        "#OR\n",
        "print(b.shape)"
      ],
      "execution_count": 82,
      "outputs": [
        {
          "output_type": "stream",
          "text": [
            "[1 2 3]\n",
            "(3,)\n",
            "(3,)\n"
          ],
          "name": "stdout"
        }
      ]
    },
    {
      "cell_type": "code",
      "metadata": {
        "id": "nCikE6eAb50V",
        "colab_type": "code",
        "outputId": "11cb0170-d734-4a70-fdfa-222ea494bc02",
        "colab": {
          "base_uri": "https://localhost:8080/",
          "height": 170
        }
      },
      "source": [
        "#print(type(RBG))\n",
        "print(RBG.shape[0])\n",
        "print(RBG.shape[1])\n",
        "print(RBG)"
      ],
      "execution_count": 89,
      "outputs": [
        {
          "output_type": "stream",
          "text": [
            "7\n",
            "3\n",
            "[[ -4.   4.   0.]\n",
            " [-10. -10.  10.]\n",
            " [ -2.   0.   5.]\n",
            " [  8.   0.   8.]\n",
            " [  5.  15.   1.]\n",
            " [ 22.   5.   2.]\n",
            " [  3.   1.  38.]]\n"
          ],
          "name": "stdout"
        }
      ]
    },
    {
      "cell_type": "code",
      "metadata": {
        "id": "9EE_djgHTbeT",
        "colab_type": "code",
        "outputId": "db28f0e0-6ea2-4a86-dcd3-b3db006a3dd4",
        "colab": {
          "base_uri": "https://localhost:8080/",
          "height": 34
        }
      },
      "source": [
        "hidden = tf.keras.layers.Dense(units=2, input_shape=[3])\n",
        "#hidden = tf.keras.layers.Flatten(input_shape=(1, 3, 1))\n",
        "output = tf.keras.layers.Dense(units=1)\n",
        "\n",
        "model = tf.keras.Sequential([hidden, output])\n",
        "model.compile(loss='mean_squared_error', optimizer=tf.keras.optimizers.Adam(0.1))\n",
        "history = model.fit(RBG,Y, epochs=500, verbose=False)\n",
        "print(\"Finished training the model\")\n"
      ],
      "execution_count": 90,
      "outputs": [
        {
          "output_type": "stream",
          "text": [
            "Finished training the model\n"
          ],
          "name": "stdout"
        }
      ]
    },
    {
      "cell_type": "code",
      "metadata": {
        "id": "pfRoXxemuPYn",
        "colab_type": "code",
        "colab": {
          "base_uri": "https://localhost:8080/",
          "height": 300
        },
        "outputId": "e030416a-b99f-458f-eaae-6cc5eadc6f6c"
      },
      "source": [
        "import matplotlib.pyplot as plt\n",
        "plt.xlabel('Epoch Number')\n",
        "plt.ylabel(\"Loss Magnitude\")\n",
        "plt.plot(history.history['loss'])"
      ],
      "execution_count": 91,
      "outputs": [
        {
          "output_type": "execute_result",
          "data": {
            "text/plain": [
              "[<matplotlib.lines.Line2D at 0x7f873fb507f0>]"
            ]
          },
          "metadata": {
            "tags": []
          },
          "execution_count": 91
        },
        {
          "output_type": "display_data",
          "data": {
            "image/png": "[encoded data removed]",
            "text/plain": [
              "<Figure size 432x288 with 1 Axes>"
            ]
          },
          "metadata": {
            "tags": []
          }
        }
      ]
    },
    {
      "cell_type": "code",
      "metadata": {
        "id": "d5b9YbcR2t1h",
        "colab_type": "code",
        "colab": {
          "base_uri": "https://localhost:8080/",
          "height": 85
        },
        "outputId": "65f61f72-8ca7-438d-c4c6-b2646b7109be"
      },
      "source": [
        "test = np.array([[3],[1],[-1]])\n",
        "print (test)\n",
        "test = test.transpose()\n",
        "print (test)\n",
        "\n",
        "\n"
      ],
      "execution_count": 119,
      "outputs": [
        {
          "output_type": "stream",
          "text": [
            "[[ 3]\n",
            " [ 1]\n",
            " [-1]]\n",
            "[[ 3  1 -1]]\n"
          ],
          "name": "stdout"
        }
      ]
    },
    {
      "cell_type": "code",
      "metadata": {
        "id": "m_Kc68gJirlW",
        "colab_type": "code",
        "colab": {
          "base_uri": "https://localhost:8080/",
          "height": 34
        },
        "outputId": "6bd3547e-0e3e-4b5c-e7cb-1d5900dc9ada"
      },
      "source": [
        "print(model.predict(test))"
      ],
      "execution_count": 120,
      "outputs": [
        {
          "output_type": "stream",
          "text": [
            "[[2.9999995]]\n"
          ],
          "name": "stdout"
        }
      ]
    },
    {
      "cell_type": "code",
      "metadata": {
        "id": "CuYB9UVAGRB3",
        "colab_type": "code",
        "colab": {
          "base_uri": "https://localhost:8080/",
          "height": 51
        },
        "outputId": "30bf1115-be68-4721-9a56-ff5990971434"
      },
      "source": [
        "print(\"These are the layer variables: {}\".format(output.get_weights()))"
      ],
      "execution_count": 121,
      "outputs": [
        {
          "output_type": "stream",
          "text": [
            "These are the layer variables: [array([[-0.07287359],\n",
            "       [ 1.1305822 ]], dtype=float32), array([0.11341278], dtype=float32)]\n"
          ],
          "name": "stdout"
        }
      ]
    }
  ]
}