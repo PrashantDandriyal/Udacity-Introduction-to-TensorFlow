{
  "nbformat": 4,
  "nbformat_minor": 0,
  "metadata": {
    "colab": {
      "name": "RBG function approximation try",
      "provenance": [],
      "collapsed_sections": [],
      "include_colab_link": true
    },
    "kernelspec": {
      "name": "python3",
      "display_name": "Python 3"
    }
  },
  "cells": [
    {
      "cell_type": "markdown",
      "metadata": {
        "id": "view-in-github",
        "colab_type": "text"
      },
      "source": [
        "<a href=\"https://colab.research.google.com/github/PrashantDandriyal/Udacity-Introduction-to-TensorFlow/blob/master/RBG_function_approximation_try.ipynb\" target=\"_parent\"><img src=\"https://colab.research.google.com/assets/colab-badge.svg\" alt=\"Open In Colab\"/></a>"
      ]
    },
    {
      "cell_type": "code",
      "metadata": {
        "id": "SVPxSuY1TTCl",
        "colab_type": "code",
        "colab": {}
      },
      "source": [
        "from __future__ import absolute_import, division, print_function, unicode_literals\n",
        "import tensorflow as tf\n",
        "\n",
        "import numpy as np\n"
      ],
      "execution_count": 0,
      "outputs": []
    },
    {
      "cell_type": "code",
      "metadata": {
        "id": "um5aZrPjTVeg",
        "colab_type": "code",
        "colab": {}
      },
      "source": [
        "import logging\n",
        "logger = tf.get_logger()\n",
        "logger.setLevel(logging.ERROR)"
      ],
      "execution_count": 0,
      "outputs": []
    },
    {
      "cell_type": "code",
      "metadata": {
        "id": "pR0fk57lTYAv",
        "colab_type": "code",
        "outputId": "6c8d76cd-d66c-4f93-e362-c7599ce722ab",
        "colab": {
          "base_uri": "https://localhost:8080/",
          "height": 136
        }
      },
      "source": [
        "R    = np.array([-4, -10,  0,  8, 15, 22,  3],  dtype=float)\n",
        "B    = np.array([4, -10,  0,  8, 15, 5,  1],  dtype=float)\n",
        "G    = np.array([0, -10,  0,  8, 15, 2,  38],  dtype=float)\n",
        "RBG_list = [[R,B,G]]\n",
        "RBG = np.empty((7,3), float)\n",
        "\n",
        "Y    = np.array([0, -30, 0, 24, 45, 29, 42],  dtype=float)\n",
        "\n",
        "for i,c in enumerate(R):\n",
        "  np.append(RBG,[R[i],B[i], G[i]]) \n",
        "  #RBG[i] = R[i]\n",
        "  print(\"R={} B = {} G ={} i={}\".format(R[i],B[i],G[i],i))\n",
        "  "
      ],
      "execution_count": 4,
      "outputs": [
        {
          "output_type": "stream",
          "text": [
            "R=-4.0 B = 4.0 G =0.0 i=0\n",
            "R=-10.0 B = -10.0 G =-10.0 i=1\n",
            "R=0.0 B = 0.0 G =0.0 i=2\n",
            "R=8.0 B = 8.0 G =8.0 i=3\n",
            "R=15.0 B = 15.0 G =15.0 i=4\n",
            "R=22.0 B = 5.0 G =2.0 i=5\n",
            "R=3.0 B = 1.0 G =38.0 i=6\n"
          ],
          "name": "stdout"
        }
      ]
    },
    {
      "cell_type": "code",
      "metadata": {
        "id": "1gqL1wCIuMIF",
        "colab_type": "code",
        "colab": {}
      },
      "source": [
        ""
      ],
      "execution_count": 0,
      "outputs": []
    },
    {
      "cell_type": "code",
      "metadata": {
        "id": "nCikE6eAb50V",
        "colab_type": "code",
        "outputId": "1577f42a-b3f6-4954-eb04-a3ff0cd25873",
        "colab": {
          "base_uri": "https://localhost:8080/",
          "height": 187
        }
      },
      "source": [
        "print(type(RBG))\n",
        "print(RBG.shape[0])\n",
        "print(RBG.shape[1])\n",
        "print(RBG)"
      ],
      "execution_count": 5,
      "outputs": [
        {
          "output_type": "stream",
          "text": [
            "<class 'numpy.ndarray'>\n",
            "7\n",
            "3\n",
            "[[4.4943389e-316 0.0000000e+000 0.0000000e+000]\n",
            " [0.0000000e+000 0.0000000e+000 0.0000000e+000]\n",
            " [0.0000000e+000 0.0000000e+000 0.0000000e+000]\n",
            " [0.0000000e+000 0.0000000e+000 0.0000000e+000]\n",
            " [0.0000000e+000 0.0000000e+000 0.0000000e+000]\n",
            " [0.0000000e+000 0.0000000e+000 0.0000000e+000]\n",
            " [0.0000000e+000 0.0000000e+000 0.0000000e+000]]\n"
          ],
          "name": "stdout"
        }
      ]
    },
    {
      "cell_type": "code",
      "metadata": {
        "id": "9EE_djgHTbeT",
        "colab_type": "code",
        "outputId": "76d02554-4560-47c6-cda2-a8b6d44673f4",
        "colab": {
          "base_uri": "https://localhost:8080/",
          "height": 231
        }
      },
      "source": [
        "hidden = tf.keras.layers.Dense(units=2, input_shape=[3])\n",
        "#hidden = tf.keras.layers.Flatten(input_shape=(1, 3, 1))\n",
        "output = tf.keras.layers.Dense(units=1)\n",
        "\n",
        "model = tf.keras.Sequential([hidden, output])\n",
        "model.compile(loss='mean_squared_error', optimizer=tf.keras.optimizers.Adam(0.1))\n",
        "history = model.fit(RBG,Y, epochs=500, verbose=False)\n",
        "print(\"Finished training the model\")\n"
      ],
      "execution_count": 1,
      "outputs": [
        {
          "output_type": "error",
          "ename": "NameError",
          "evalue": "ignored",
          "traceback": [
            "\u001b[0;31m---------------------------------------------------------------------------\u001b[0m",
            "\u001b[0;31mNameError\u001b[0m                                 Traceback (most recent call last)",
            "\u001b[0;32m<ipython-input-1-c4b0da631c2c>\u001b[0m in \u001b[0;36m<module>\u001b[0;34m()\u001b[0m\n\u001b[0;32m----> 1\u001b[0;31m \u001b[0mhidden\u001b[0m \u001b[0;34m=\u001b[0m \u001b[0mtf\u001b[0m\u001b[0;34m.\u001b[0m\u001b[0mkeras\u001b[0m\u001b[0;34m.\u001b[0m\u001b[0mlayers\u001b[0m\u001b[0;34m.\u001b[0m\u001b[0mDense\u001b[0m\u001b[0;34m(\u001b[0m\u001b[0munits\u001b[0m\u001b[0;34m=\u001b[0m\u001b[0;36m2\u001b[0m\u001b[0;34m,\u001b[0m \u001b[0minput_shape\u001b[0m\u001b[0;34m=\u001b[0m\u001b[0;34m[\u001b[0m\u001b[0;36m3\u001b[0m\u001b[0;34m]\u001b[0m\u001b[0;34m)\u001b[0m\u001b[0;34m\u001b[0m\u001b[0;34m\u001b[0m\u001b[0m\n\u001b[0m\u001b[1;32m      2\u001b[0m \u001b[0;31m#hidden = tf.keras.layers.Flatten(input_shape=(1, 3, 1))\u001b[0m\u001b[0;34m\u001b[0m\u001b[0;34m\u001b[0m\u001b[0;34m\u001b[0m\u001b[0m\n\u001b[1;32m      3\u001b[0m \u001b[0moutput\u001b[0m \u001b[0;34m=\u001b[0m \u001b[0mtf\u001b[0m\u001b[0;34m.\u001b[0m\u001b[0mkeras\u001b[0m\u001b[0;34m.\u001b[0m\u001b[0mlayers\u001b[0m\u001b[0;34m.\u001b[0m\u001b[0mDense\u001b[0m\u001b[0;34m(\u001b[0m\u001b[0munits\u001b[0m\u001b[0;34m=\u001b[0m\u001b[0;36m1\u001b[0m\u001b[0;34m)\u001b[0m\u001b[0;34m\u001b[0m\u001b[0;34m\u001b[0m\u001b[0m\n\u001b[1;32m      4\u001b[0m \u001b[0;34m\u001b[0m\u001b[0m\n\u001b[1;32m      5\u001b[0m \u001b[0mmodel\u001b[0m \u001b[0;34m=\u001b[0m \u001b[0mtf\u001b[0m\u001b[0;34m.\u001b[0m\u001b[0mkeras\u001b[0m\u001b[0;34m.\u001b[0m\u001b[0mSequential\u001b[0m\u001b[0;34m(\u001b[0m\u001b[0;34m[\u001b[0m\u001b[0mhidden\u001b[0m\u001b[0;34m,\u001b[0m \u001b[0moutput\u001b[0m\u001b[0;34m]\u001b[0m\u001b[0;34m)\u001b[0m\u001b[0;34m\u001b[0m\u001b[0;34m\u001b[0m\u001b[0m\n",
            "\u001b[0;31mNameError\u001b[0m: name 'tf' is not defined"
          ]
        }
      ]
    },
    {
      "cell_type": "code",
      "metadata": {
        "id": "pfRoXxemuPYn",
        "colab_type": "code",
        "colab": {}
      },
      "source": [
        "import matplotlib.pyplot as plt\n",
        "plt.xlabel('Epoch Number')\n",
        "plt.ylabel(\"Loss Magnitude\")\n",
        "plt.plot(history.history['loss'])"
      ],
      "execution_count": 0,
      "outputs": []
    }
  ]
}