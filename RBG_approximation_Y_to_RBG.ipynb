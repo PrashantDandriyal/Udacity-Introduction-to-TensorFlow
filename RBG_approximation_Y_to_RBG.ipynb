{
  "nbformat": 4,
  "nbformat_minor": 0,
  "metadata": {
    "colab": {
      "name": "RBG approximation Y to RBG.ipynb",
      "provenance": [],
      "collapsed_sections": [],
      "include_colab_link": true
    },
    "kernelspec": {
      "name": "python3",
      "display_name": "Python 3"
    }
  },
  "cells": [
    {
      "cell_type": "markdown",
      "metadata": {
        "id": "view-in-github",
        "colab_type": "text"
      },
      "source": [
        "<a href=\"https://colab.research.google.com/github/PrashantDandriyal/Udacity-Introduction-to-TensorFlow/blob/master/RBG_approximation_Y_to_RBG.ipynb\" target=\"_parent\"><img src=\"https://colab.research.google.com/assets/colab-badge.svg\" alt=\"Open In Colab\"/></a>"
      ]
    },
    {
      "cell_type": "code",
      "metadata": {
        "id": "9lAVVkt-35Ye",
        "colab_type": "code",
        "colab": {
          "base_uri": "https://localhost:8080/",
          "height": 51
        },
        "outputId": "5ce159ad-8c11-48d0-a081-e23160df8529"
      },
      "source": [
        "import numpy as np\n",
        "from tensorflow.python.keras.layers import Input, Dense\n",
        "from tensorflow.python.keras.models import Model\n",
        "\n",
        "\n",
        "X = np.array([3,0,13,30,-3])\n",
        "Y = np.array([[1,1,1],\n",
        "             [-2,2,0],\n",
        "             [5,5,3],\n",
        "             [20,5,5],\n",
        "             [-1,1,-3]])\n",
        "print(X.shape)\n",
        "print(Y.shape)\n",
        "\n"
      ],
      "execution_count": 8,
      "outputs": [
        {
          "output_type": "stream",
          "text": [
            "(5,)\n",
            "(5, 3)\n"
          ],
          "name": "stdout"
        }
      ]
    },
    {
      "cell_type": "code",
      "metadata": {
        "id": "XxIuFUYn7x3R",
        "colab_type": "code",
        "colab": {
          "base_uri": "https://localhost:8080/",
          "height": 51
        },
        "outputId": "9c1bc832-40e2-428d-b7b0-2f2b279a72e2"
      },
      "source": [
        "#X=np.random.random(size=(100,1))\n",
        "Y=np.random.randint(0,255,size=(1000,3)).astype(float)   #Regression\n",
        "print(Y.shape)\n",
        "X = np.sum(Y, axis = 1)\n",
        "print(X.shape)"
      ],
      "execution_count": 25,
      "outputs": [
        {
          "output_type": "stream",
          "text": [
            "(1000, 3)\n",
            "(1000,)\n"
          ],
          "name": "stdout"
        }
      ]
    },
    {
      "cell_type": "code",
      "metadata": {
        "id": "9ehj6yY95mWJ",
        "colab_type": "code",
        "colab": {
          "base_uri": "https://localhost:8080/",
          "height": 1000
        },
        "outputId": "8e6e25ca-b446-4387-8131-fb45fbf693d1"
      },
      "source": [
        "input1 = Input(shape=(1,))\n",
        "l1 = Dense(10, activation='relu')(input1)\n",
        "l2 = Dense(50, activation='relu')(l1)\n",
        "l3 = Dense(50, activation='relu')(l2)\n",
        "out = Dense(3)(l3)\n",
        "\n",
        "model = Model(inputs=input1, outputs=[out])\n",
        "model.compile(\n",
        "    optimizer='adam',\n",
        "    loss=['mean_squared_error'],\n",
        "    metrics=['accuracy']\n",
        "    )\n",
        "\n",
        "history = model.fit(X, [Y], epochs=100, batch_size=64)"
      ],
      "execution_count": 26,
      "outputs": [
        {
          "output_type": "stream",
          "text": [
            "Epoch 1/100\n",
            "1000/1000 [==============================] - 0s 124us/sample - loss: 8614.1067 - acc: 0.3430\n",
            "Epoch 2/100\n",
            "1000/1000 [==============================] - 0s 30us/sample - loss: 3998.6003 - acc: 0.3070\n",
            "Epoch 3/100\n",
            "1000/1000 [==============================] - 0s 33us/sample - loss: 3835.7916 - acc: 0.3390\n",
            "Epoch 4/100\n",
            "1000/1000 [==============================] - 0s 37us/sample - loss: 3739.8903 - acc: 0.3510\n",
            "Epoch 5/100\n",
            "1000/1000 [==============================] - 0s 29us/sample - loss: 3749.0137 - acc: 0.3430\n",
            "Epoch 6/100\n",
            "1000/1000 [==============================] - 0s 34us/sample - loss: 3749.3587 - acc: 0.3390\n",
            "Epoch 7/100\n",
            "1000/1000 [==============================] - 0s 29us/sample - loss: 3747.8099 - acc: 0.3320\n",
            "Epoch 8/100\n",
            "1000/1000 [==============================] - 0s 30us/sample - loss: 3741.7415 - acc: 0.3390\n",
            "Epoch 9/100\n",
            "1000/1000 [==============================] - 0s 30us/sample - loss: 3748.3661 - acc: 0.3320\n",
            "Epoch 10/100\n",
            "1000/1000 [==============================] - 0s 28us/sample - loss: 3756.8629 - acc: 0.3350\n",
            "Epoch 11/100\n",
            "1000/1000 [==============================] - 0s 30us/sample - loss: 3748.1579 - acc: 0.3400\n",
            "Epoch 12/100\n",
            "1000/1000 [==============================] - 0s 35us/sample - loss: 3747.0104 - acc: 0.3260\n",
            "Epoch 13/100\n",
            "1000/1000 [==============================] - 0s 31us/sample - loss: 3748.7908 - acc: 0.2970\n",
            "Epoch 14/100\n",
            "1000/1000 [==============================] - 0s 35us/sample - loss: 3751.9263 - acc: 0.3260\n",
            "Epoch 15/100\n",
            "1000/1000 [==============================] - 0s 31us/sample - loss: 3750.7368 - acc: 0.3390\n",
            "Epoch 16/100\n",
            "1000/1000 [==============================] - 0s 29us/sample - loss: 3752.0679 - acc: 0.3260\n",
            "Epoch 17/100\n",
            "1000/1000 [==============================] - 0s 32us/sample - loss: 3753.4857 - acc: 0.3340\n",
            "Epoch 18/100\n",
            "1000/1000 [==============================] - 0s 28us/sample - loss: 3741.8944 - acc: 0.3220\n",
            "Epoch 19/100\n",
            "1000/1000 [==============================] - 0s 34us/sample - loss: 3760.6866 - acc: 0.3330\n",
            "Epoch 20/100\n",
            "1000/1000 [==============================] - 0s 30us/sample - loss: 3753.3855 - acc: 0.3240\n",
            "Epoch 21/100\n",
            "1000/1000 [==============================] - 0s 29us/sample - loss: 3755.2963 - acc: 0.3160\n",
            "Epoch 22/100\n",
            "1000/1000 [==============================] - 0s 31us/sample - loss: 3738.7088 - acc: 0.3410\n",
            "Epoch 23/100\n",
            "1000/1000 [==============================] - 0s 33us/sample - loss: 3749.0736 - acc: 0.3290\n",
            "Epoch 24/100\n",
            "1000/1000 [==============================] - 0s 32us/sample - loss: 3741.9340 - acc: 0.3250\n",
            "Epoch 25/100\n",
            "1000/1000 [==============================] - 0s 30us/sample - loss: 3746.4278 - acc: 0.3240\n",
            "Epoch 26/100\n",
            "1000/1000 [==============================] - 0s 31us/sample - loss: 3750.6422 - acc: 0.3190\n",
            "Epoch 27/100\n",
            "1000/1000 [==============================] - 0s 39us/sample - loss: 3745.4794 - acc: 0.3220\n",
            "Epoch 28/100\n",
            "1000/1000 [==============================] - 0s 34us/sample - loss: 3741.7832 - acc: 0.3350\n",
            "Epoch 29/100\n",
            "1000/1000 [==============================] - 0s 36us/sample - loss: 3740.9638 - acc: 0.3150\n",
            "Epoch 30/100\n",
            "1000/1000 [==============================] - 0s 33us/sample - loss: 3747.5986 - acc: 0.3340\n",
            "Epoch 31/100\n",
            "1000/1000 [==============================] - 0s 33us/sample - loss: 3752.5642 - acc: 0.3310\n",
            "Epoch 32/100\n",
            "1000/1000 [==============================] - 0s 32us/sample - loss: 3749.4109 - acc: 0.3490\n",
            "Epoch 33/100\n",
            "1000/1000 [==============================] - 0s 31us/sample - loss: 3761.5691 - acc: 0.3290\n",
            "Epoch 34/100\n",
            "1000/1000 [==============================] - 0s 30us/sample - loss: 3747.4928 - acc: 0.3080\n",
            "Epoch 35/100\n",
            "1000/1000 [==============================] - 0s 29us/sample - loss: 3742.9740 - acc: 0.3320\n",
            "Epoch 36/100\n",
            "1000/1000 [==============================] - 0s 33us/sample - loss: 3744.5363 - acc: 0.3400\n",
            "Epoch 37/100\n",
            "1000/1000 [==============================] - 0s 33us/sample - loss: 3744.4776 - acc: 0.3400\n",
            "Epoch 38/100\n",
            "1000/1000 [==============================] - 0s 30us/sample - loss: 3750.2320 - acc: 0.3140\n",
            "Epoch 39/100\n",
            "1000/1000 [==============================] - 0s 33us/sample - loss: 3750.0382 - acc: 0.3270\n",
            "Epoch 40/100\n",
            "1000/1000 [==============================] - 0s 31us/sample - loss: 3750.0360 - acc: 0.3150\n",
            "Epoch 41/100\n",
            "1000/1000 [==============================] - 0s 29us/sample - loss: 3752.1949 - acc: 0.3180\n",
            "Epoch 42/100\n",
            "1000/1000 [==============================] - 0s 34us/sample - loss: 3752.0964 - acc: 0.3410\n",
            "Epoch 43/100\n",
            "1000/1000 [==============================] - 0s 35us/sample - loss: 3760.1036 - acc: 0.3320\n",
            "Epoch 44/100\n",
            "1000/1000 [==============================] - 0s 28us/sample - loss: 3752.8562 - acc: 0.3220\n",
            "Epoch 45/100\n",
            "1000/1000 [==============================] - 0s 30us/sample - loss: 3765.9666 - acc: 0.3120\n",
            "Epoch 46/100\n",
            "1000/1000 [==============================] - 0s 29us/sample - loss: 3750.0103 - acc: 0.3180\n",
            "Epoch 47/100\n",
            "1000/1000 [==============================] - 0s 31us/sample - loss: 3758.1753 - acc: 0.3270\n",
            "Epoch 48/100\n",
            "1000/1000 [==============================] - 0s 34us/sample - loss: 3743.4802 - acc: 0.3220\n",
            "Epoch 49/100\n",
            "1000/1000 [==============================] - 0s 33us/sample - loss: 3744.8808 - acc: 0.3440\n",
            "Epoch 50/100\n",
            "1000/1000 [==============================] - 0s 33us/sample - loss: 3746.7110 - acc: 0.3490\n",
            "Epoch 51/100\n",
            "1000/1000 [==============================] - 0s 32us/sample - loss: 3746.5994 - acc: 0.3310\n",
            "Epoch 52/100\n",
            "1000/1000 [==============================] - 0s 30us/sample - loss: 3748.7411 - acc: 0.3360\n",
            "Epoch 53/100\n",
            "1000/1000 [==============================] - 0s 30us/sample - loss: 3746.8126 - acc: 0.3280\n",
            "Epoch 54/100\n",
            "1000/1000 [==============================] - 0s 34us/sample - loss: 3742.3511 - acc: 0.3500\n",
            "Epoch 55/100\n",
            "1000/1000 [==============================] - 0s 36us/sample - loss: 3747.1845 - acc: 0.3490\n",
            "Epoch 56/100\n",
            "1000/1000 [==============================] - 0s 34us/sample - loss: 3748.2018 - acc: 0.3250\n",
            "Epoch 57/100\n",
            "1000/1000 [==============================] - 0s 34us/sample - loss: 3743.2752 - acc: 0.3220\n",
            "Epoch 58/100\n",
            "1000/1000 [==============================] - 0s 35us/sample - loss: 3771.0191 - acc: 0.3270\n",
            "Epoch 59/100\n",
            "1000/1000 [==============================] - 0s 38us/sample - loss: 3759.2427 - acc: 0.3140\n",
            "Epoch 60/100\n",
            "1000/1000 [==============================] - 0s 32us/sample - loss: 3768.0217 - acc: 0.3200\n",
            "Epoch 61/100\n",
            "1000/1000 [==============================] - 0s 37us/sample - loss: 3747.0942 - acc: 0.3300\n",
            "Epoch 62/100\n",
            "1000/1000 [==============================] - 0s 29us/sample - loss: 3747.4071 - acc: 0.3380\n",
            "Epoch 63/100\n",
            "1000/1000 [==============================] - 0s 36us/sample - loss: 3745.5250 - acc: 0.3250\n",
            "Epoch 64/100\n",
            "1000/1000 [==============================] - 0s 33us/sample - loss: 3752.8656 - acc: 0.3240\n",
            "Epoch 65/100\n",
            "1000/1000 [==============================] - 0s 32us/sample - loss: 3775.9633 - acc: 0.2960\n",
            "Epoch 66/100\n",
            "1000/1000 [==============================] - 0s 34us/sample - loss: 3764.2987 - acc: 0.3450\n",
            "Epoch 67/100\n",
            "1000/1000 [==============================] - 0s 33us/sample - loss: 3762.2270 - acc: 0.3110\n",
            "Epoch 68/100\n",
            "1000/1000 [==============================] - 0s 33us/sample - loss: 3751.7656 - acc: 0.3270\n",
            "Epoch 69/100\n",
            "1000/1000 [==============================] - 0s 32us/sample - loss: 3742.4930 - acc: 0.3350\n",
            "Epoch 70/100\n",
            "1000/1000 [==============================] - 0s 36us/sample - loss: 3742.6858 - acc: 0.3200\n",
            "Epoch 71/100\n",
            "1000/1000 [==============================] - 0s 36us/sample - loss: 3741.4471 - acc: 0.3380\n",
            "Epoch 72/100\n",
            "1000/1000 [==============================] - 0s 38us/sample - loss: 3744.5488 - acc: 0.3370\n",
            "Epoch 73/100\n",
            "1000/1000 [==============================] - 0s 35us/sample - loss: 3754.6297 - acc: 0.3140\n",
            "Epoch 74/100\n",
            "1000/1000 [==============================] - 0s 31us/sample - loss: 3751.6616 - acc: 0.3350\n",
            "Epoch 75/100\n",
            "1000/1000 [==============================] - 0s 31us/sample - loss: 3750.5351 - acc: 0.3280\n",
            "Epoch 76/100\n",
            "1000/1000 [==============================] - 0s 43us/sample - loss: 3756.1893 - acc: 0.3490\n",
            "Epoch 77/100\n",
            "1000/1000 [==============================] - 0s 37us/sample - loss: 3777.7399 - acc: 0.3350\n",
            "Epoch 78/100\n",
            "1000/1000 [==============================] - 0s 31us/sample - loss: 3757.2642 - acc: 0.3170\n",
            "Epoch 79/100\n",
            "1000/1000 [==============================] - 0s 32us/sample - loss: 3749.7438 - acc: 0.3280\n",
            "Epoch 80/100\n",
            "1000/1000 [==============================] - 0s 34us/sample - loss: 3745.2068 - acc: 0.3270\n",
            "Epoch 81/100\n",
            "1000/1000 [==============================] - 0s 33us/sample - loss: 3749.0756 - acc: 0.3500\n",
            "Epoch 82/100\n",
            "1000/1000 [==============================] - 0s 35us/sample - loss: 3769.2258 - acc: 0.3030\n",
            "Epoch 83/100\n",
            "1000/1000 [==============================] - 0s 28us/sample - loss: 3754.5290 - acc: 0.3320\n",
            "Epoch 84/100\n",
            "1000/1000 [==============================] - 0s 30us/sample - loss: 3752.0628 - acc: 0.3400\n",
            "Epoch 85/100\n",
            "1000/1000 [==============================] - 0s 30us/sample - loss: 3748.1130 - acc: 0.3290\n",
            "Epoch 86/100\n",
            "1000/1000 [==============================] - 0s 33us/sample - loss: 3741.2477 - acc: 0.3340\n",
            "Epoch 87/100\n",
            "1000/1000 [==============================] - 0s 29us/sample - loss: 3762.3000 - acc: 0.3100\n",
            "Epoch 88/100\n",
            "1000/1000 [==============================] - 0s 28us/sample - loss: 3765.1874 - acc: 0.3090\n",
            "Epoch 89/100\n",
            "1000/1000 [==============================] - 0s 33us/sample - loss: 3745.7653 - acc: 0.3260\n",
            "Epoch 90/100\n",
            "1000/1000 [==============================] - 0s 31us/sample - loss: 3749.0099 - acc: 0.3250\n",
            "Epoch 91/100\n",
            "1000/1000 [==============================] - 0s 29us/sample - loss: 3775.5892 - acc: 0.3400\n",
            "Epoch 92/100\n",
            "1000/1000 [==============================] - 0s 34us/sample - loss: 3788.3967 - acc: 0.3250\n",
            "Epoch 93/100\n",
            "1000/1000 [==============================] - 0s 31us/sample - loss: 3750.9122 - acc: 0.3110\n",
            "Epoch 94/100\n",
            "1000/1000 [==============================] - 0s 34us/sample - loss: 3742.8353 - acc: 0.3520\n",
            "Epoch 95/100\n",
            "1000/1000 [==============================] - 0s 32us/sample - loss: 3739.4620 - acc: 0.3320\n",
            "Epoch 96/100\n",
            "1000/1000 [==============================] - 0s 34us/sample - loss: 3749.7027 - acc: 0.3210\n",
            "Epoch 97/100\n",
            "1000/1000 [==============================] - 0s 30us/sample - loss: 3742.5622 - acc: 0.2980\n",
            "Epoch 98/100\n",
            "1000/1000 [==============================] - 0s 29us/sample - loss: 3741.1441 - acc: 0.3260\n",
            "Epoch 99/100\n",
            "1000/1000 [==============================] - 0s 28us/sample - loss: 3744.1232 - acc: 0.3470\n",
            "Epoch 100/100\n",
            "1000/1000 [==============================] - 0s 31us/sample - loss: 3747.0130 - acc: 0.3160\n"
          ],
          "name": "stdout"
        }
      ]
    },
    {
      "cell_type": "code",
      "metadata": {
        "id": "9k5p4XUG_EcY",
        "colab_type": "code",
        "colab": {
          "base_uri": "https://localhost:8080/",
          "height": 300
        },
        "outputId": "7cf67c4c-5d8b-49eb-99de-9c446f70a3af"
      },
      "source": [
        "import matplotlib.pyplot as plt\n",
        "plt.xlabel('Epoch Number')\n",
        "plt.ylabel(\"Loss Magnitude\")\n",
        "plt.plot(history.history['loss'])"
      ],
      "execution_count": 27,
      "outputs": [
        {
          "output_type": "execute_result",
          "data": {
            "text/plain": [
              "[<matplotlib.lines.Line2D at 0x7f74aa6a65f8>]"
            ]
          },
          "metadata": {
            "tags": []
          },
          "execution_count": 27
        },
        {
          "output_type": "display_data",
          "data": {
            "image/png": "[encoded data removed]",
            "text/plain": [
              "<Figure size 432x288 with 1 Axes>"
            ]
          },
          "metadata": {
            "tags": []
          }
        }
      ]
    },
    {
      "cell_type": "code",
      "metadata": {
        "id": "sASbcvmR62ig",
        "colab_type": "code",
        "colab": {
          "base_uri": "https://localhost:8080/",
          "height": 34
        },
        "outputId": "b9021854-bf76-47e2-a70d-5c7763aba761"
      },
      "source": [
        "print(model.predict([120]))"
      ],
      "execution_count": 29,
      "outputs": [
        {
          "output_type": "stream",
          "text": [
            "[[39.711197 38.92614  41.454967]]\n"
          ],
          "name": "stdout"
        }
      ]
    }
  ]
}